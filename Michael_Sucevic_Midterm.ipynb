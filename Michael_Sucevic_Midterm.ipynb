{
  "nbformat": 4,
  "nbformat_minor": 0,
  "metadata": {
    "colab": {
      "provenance": [],
      "authorship_tag": "ABX9TyOUMKeRgFCN7N2g21QGQA7N",
      "include_colab_link": true
    },
    "kernelspec": {
      "name": "python3",
      "display_name": "Python 3"
    },
    "language_info": {
      "name": "python"
    }
  },
  "cells": [
    {
      "cell_type": "markdown",
      "metadata": {
        "id": "view-in-github",
        "colab_type": "text"
      },
      "source": [
        "<a href=\"https://colab.research.google.com/github/MichaelSucevic/Data-Science/blob/main/Michael_Sucevic_Midterm.ipynb\" target=\"_parent\"><img src=\"https://colab.research.google.com/assets/colab-badge.svg\" alt=\"Open In Colab\"/></a>"
      ]
    },
    {
      "cell_type": "code",
      "execution_count": null,
      "metadata": {
        "id": "Eqt0XDK2Q05I"
      },
      "outputs": [],
      "source": [
        "import numpy as np\n",
        "import matplotlib.pyplot as plt"
      ]
    },
    {
      "cell_type": "code",
      "source": [
        "# The code above is two imports we have been using all semester. Numpy is a Python library used to work with arrays. \n",
        "#Matplotlib is used to create graphs and have them implemented in to the code."
      ],
      "metadata": {
        "id": "qtUiCiz70ZFw"
      },
      "execution_count": null,
      "outputs": []
    },
    {
      "cell_type": "code",
      "source": [
        "X = np.array([12,9,20,7,2])\n",
        "Y = np.array([38,28,63,22,6])"
      ],
      "metadata": {
        "id": "Fcz3wS0qQ7GM"
      },
      "execution_count": null,
      "outputs": []
    },
    {
      "cell_type": "code",
      "source": [
        "# Above is the circumference and diameters of the objects used. \n",
        "# np.array is an array which is used to store more than one item at a time."
      ],
      "metadata": {
        "id": "N-dwd0sR1Aim"
      },
      "execution_count": null,
      "outputs": []
    },
    {
      "cell_type": "code",
      "source": [
        "plt.plot(X,Y,'r.')"
      ],
      "metadata": {
        "colab": {
          "base_uri": "https://localhost:8080/",
          "height": 282
        },
        "id": "rtXgJdngRBrc",
        "outputId": "4490f4be-01f2-468b-a987-3f2fe2bc6598"
      },
      "execution_count": null,
      "outputs": [
        {
          "output_type": "execute_result",
          "data": {
            "text/plain": [
              "[<matplotlib.lines.Line2D at 0x7ff0f96cfb10>]"
            ]
          },
          "metadata": {},
          "execution_count": 6
        },
        {
          "output_type": "display_data",
          "data": {
            "text/plain": [
              "<Figure size 432x288 with 1 Axes>"
            ],
            "image/png": "[encoded data removed]"
          },
          "metadata": {
            "needs_background": "light"
          }
        }
      ]
    },
    {
      "cell_type": "code",
      "source": [
        "# Above is the scatterplot for the arrays created above. "
      ],
      "metadata": {
        "id": "0NCmlIK52N3b"
      },
      "execution_count": null,
      "outputs": []
    },
    {
      "cell_type": "code",
      "source": [
        "m_guess = 0\n",
        "b_guess = 0"
      ],
      "metadata": {
        "id": "a88VCLOHRcub"
      },
      "execution_count": null,
      "outputs": []
    },
    {
      "cell_type": "markdown",
      "source": [
        "$y=mx+b$"
      ],
      "metadata": {
        "id": "AR_YLIyCS-dj"
      }
    },
    {
      "cell_type": "code",
      "source": [
        "m_guess * X + b_guess"
      ],
      "metadata": {
        "colab": {
          "base_uri": "https://localhost:8080/"
        },
        "id": "YYuKNqbTSJkM",
        "outputId": "03b78075-cb5c-453b-e43a-3000a9a72ca3"
      },
      "execution_count": null,
      "outputs": [
        {
          "output_type": "execute_result",
          "data": {
            "text/plain": [
              "array([0, 0, 0, 0, 0])"
            ]
          },
          "metadata": {},
          "execution_count": 8
        }
      ]
    },
    {
      "cell_type": "code",
      "source": [
        "# Above is essentially the y=mx+b formula but using the variable we are using in this code."
      ],
      "metadata": {
        "id": "r9jzUJx54fSy"
      },
      "execution_count": null,
      "outputs": []
    },
    {
      "cell_type": "code",
      "source": [
        "y_guess = m_guess * X + b_guess"
      ],
      "metadata": {
        "id": "71V_patXSNl7"
      },
      "execution_count": null,
      "outputs": []
    },
    {
      "cell_type": "code",
      "source": [
        "y_guess - Y"
      ],
      "metadata": {
        "colab": {
          "base_uri": "https://localhost:8080/"
        },
        "id": "ikjPeZFuTLW7",
        "outputId": "8e6d6ffd-9d4f-4663-bc1f-d3d561a55a24"
      },
      "execution_count": null,
      "outputs": [
        {
          "output_type": "execute_result",
          "data": {
            "text/plain": [
              "array([-38, -28, -63, -22,  -6])"
            ]
          },
          "metadata": {},
          "execution_count": 15
        }
      ]
    },
    {
      "cell_type": "code",
      "source": [
        "(y_guess - Y)**2"
      ],
      "metadata": {
        "colab": {
          "base_uri": "https://localhost:8080/"
        },
        "id": "R1rNrqNmToP7",
        "outputId": "5a767d89-4449-4a77-d131-7ca1fa08cdbb"
      },
      "execution_count": null,
      "outputs": [
        {
          "output_type": "execute_result",
          "data": {
            "text/plain": [
              "array([1444,  784, 3969,  484,   36])"
            ]
          },
          "metadata": {},
          "execution_count": 16
        }
      ]
    },
    {
      "cell_type": "code",
      "source": [
        "# Squaring the equation above allows us to remove the negative numbers in the equation. "
      ],
      "metadata": {
        "id": "ZxXiD1MS4ruR"
      },
      "execution_count": null,
      "outputs": []
    },
    {
      "cell_type": "code",
      "source": [
        "np.sum((y_guess - Y)**2)  #least squares best fit"
      ],
      "metadata": {
        "colab": {
          "base_uri": "https://localhost:8080/"
        },
        "id": "NL5jARlsUTZ-",
        "outputId": "3910548d-df3f-4eec-95c3-e5f4adadafea"
      },
      "execution_count": null,
      "outputs": [
        {
          "output_type": "execute_result",
          "data": {
            "text/plain": [
              "6717"
            ]
          },
          "metadata": {},
          "execution_count": 20
        }
      ]
    },
    {
      "cell_type": "code",
      "source": [
        "loss = np.sum((y_guess - Y)**2)"
      ],
      "metadata": {
        "id": "LvmUP2AgUzR1"
      },
      "execution_count": null,
      "outputs": []
    },
    {
      "cell_type": "code",
      "source": [
        "#Setting this as loss works in the equation when its printed out below because that is how we will find the circumference."
      ],
      "metadata": {
        "id": "jfXLeZwL5_Yg"
      },
      "execution_count": null,
      "outputs": []
    },
    {
      "cell_type": "code",
      "source": [
        " best_loss_so_far = 1000000000000\n",
        " m_best = 0\n",
        " b_best = 0\n",
        " \n",
        "for m_guess in np.linspace(-100,100,100):\n",
        "    for b_guess in np.linspace(-100,100,100):\n",
        "        y_guess = m_guess * X + b_guess\n",
        "\n",
        "        #This is called linear regression\n",
        "        # runs through calculating through a double loop\n",
        "\n",
        "        loss = np.sum((y_guess - Y)**2)\n",
        "        \n",
        "\n",
        "        if loss < best_loss_so_far:\n",
        "          m_best = m_guess\n",
        "          b_best = b_guess\n",
        "          best_loss_so_far = loss\n",
        "\n",
        "print(\"Found best fit:\")\n",
        "print(m_best,b_best,loss)\n"
      ],
      "metadata": {
        "colab": {
          "base_uri": "https://localhost:8080/"
        },
        "id": "ABZiVBmuWUgg",
        "outputId": "c27e76a5-3f4e-4978-c183-1e332cd1f046"
      },
      "execution_count": null,
      "outputs": [
        {
          "output_type": "stream",
          "name": "stdout",
          "text": [
            "Found best fit:\n",
            "3.030303030303031 1.0101010101010104 7378517.0\n"
          ]
        }
      ]
    },
    {
      "cell_type": "markdown",
      "source": [
        "$Interpretation$"
      ],
      "metadata": {
        "id": "Q1v9pzu86Veo"
      }
    },
    {
      "cell_type": "markdown",
      "source": [
        "#### Question 1:"
      ],
      "metadata": {
        "id": "L3sRcCz36o3a"
      }
    },
    {
      "cell_type": "markdown",
      "source": [
        "M and B represent the X and Y in the equation. M is the slope(diameter over circumference) and B is the Y-intercept."
      ],
      "metadata": {
        "id": "NIrVpOp96r2E"
      }
    },
    {
      "cell_type": "markdown",
      "source": [
        "#### Question 2:"
      ],
      "metadata": {
        "id": "-EUgTfVO7Iob"
      }
    },
    {
      "cell_type": "markdown",
      "source": [
        "The correct values for m and b are:\n",
        "M=1\n",
        "B=3"
      ],
      "metadata": {
        "id": "s7Pl6Yj57IPR"
      }
    },
    {
      "cell_type": "markdown",
      "source": [
        "#### Question 3:"
      ],
      "metadata": {
        "id": "YKSLku7Q7IK1"
      }
    },
    {
      "cell_type": "markdown",
      "source": [
        "It does make sense to include b into the parameters because b is the y-intercept, which is needed to have the line of best fit included."
      ],
      "metadata": {
        "id": "WtJHEiMc7H-F"
      }
    },
    {
      "cell_type": "code",
      "source": [],
      "metadata": {
        "id": "P8Rx2yRa9eMr"
      },
      "execution_count": null,
      "outputs": []
    }
  ]
}